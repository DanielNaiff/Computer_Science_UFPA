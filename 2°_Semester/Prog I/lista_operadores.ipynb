{
 "cells": [
  {
   "cell_type": "markdown",
   "metadata": {},
   "source": [
    "Questão 01: Na linguagem Python, sobre a atribuição simples, é correto afirmar:\n",
    "\n"
   ]
  },
  {
   "cell_type": "markdown",
   "metadata": {},
   "source": [
    "A - atribuição simples tem como objetivo armazenar um valor na memória volátil do\n",
    "computador. A variável que recebe o valor atribuído pode ser considerada uma\n",
    "abstração de um endereço de qualquer memória do computador. Ao abstrair o\n",
    "endereço da memória a partir de uma variável, a nível de codificação, o acesso aos\n",
    "endereços da memória ficam mais fáceis.\n",
    "\n",
    "Incorreta, pois não pode ser qualquer tipo de memória, apenas a volátil"
   ]
  },
  {
   "cell_type": "markdown",
   "metadata": {},
   "source": [
    "B - A atribuição simples tem como objetivo armazenar um valor na memória volátil do\n",
    "computador. O operador utilizado para realizar uma atribuição é o operador =. Uma\n",
    "atribuição é caracterizada como simples quando há pelo menos uma variável do lado\n",
    "esquerdo da igualdade.\n",
    "\n",
    "Incorreta. A Atribuição envolve exatamente uma variável"
   ]
  },
  {
   "cell_type": "code",
   "execution_count": 10,
   "metadata": {},
   "outputs": [
    {
     "ename": "TypeError",
     "evalue": "cannot unpack non-iterable int object",
     "output_type": "error",
     "traceback": [
      "\u001b[1;31m---------------------------------------------------------------------------\u001b[0m",
      "\u001b[1;31mTypeError\u001b[0m                                 Traceback (most recent call last)",
      "\u001b[1;32mc:\\Users\\ALUNO\\Desktop\\Hidaka\\lista_operadores.ipynb Cell 4\u001b[0m line \u001b[0;36m1\n\u001b[1;32m----> <a href='vscode-notebook-cell:/c%3A/Users/ALUNO/Desktop/Hidaka/lista_operadores.ipynb#W6sZmlsZQ%3D%3D?line=0'>1</a>\u001b[0m x , y \u001b[39m=\u001b[39m \u001b[39m10\u001b[39m\n\u001b[0;32m      <a href='vscode-notebook-cell:/c%3A/Users/ALUNO/Desktop/Hidaka/lista_operadores.ipynb#W6sZmlsZQ%3D%3D?line=2'>3</a>\u001b[0m \u001b[39mprint\u001b[39m(x)\n",
      "\u001b[1;31mTypeError\u001b[0m: cannot unpack non-iterable int object"
     ]
    }
   ],
   "source": [
    "x , y = 10\n",
    "\n",
    "print(x)"
   ]
  },
  {
   "cell_type": "markdown",
   "metadata": {},
   "source": [
    "C - A atribuição simples tem como objetivo armazenar um valor na memória volátil do\n",
    "computador. O operador utilizado para realizar uma atribuição é o operador =. Uma\n",
    "atribuição é caracterizada como simples quando há pelo menos uma variável do lado\n",
    "direito da igualdade.\n",
    "\n",
    "Incorreta. A Atribuição envolve exatamente uma variável"
   ]
  },
  {
   "cell_type": "code",
   "execution_count": null,
   "metadata": {},
   "outputs": [],
   "source": [
    "x = 10, 3\n",
    "\n",
    "print(x)"
   ]
  },
  {
   "cell_type": "markdown",
   "metadata": {},
   "source": [
    "D - A atribuição simples tem como objetivo armazenar um valor na memória volátil do\n",
    "computador. O operador utilizado para realizar uma atribuição é o operador =. Uma\n",
    "atribuição é caracterizada como simples quando há pelo somente uma variável do lado\n",
    "esquerdo da igualdade.\n",
    "\n",
    "Correta"
   ]
  },
  {
   "cell_type": "code",
   "execution_count": null,
   "metadata": {},
   "outputs": [
    {
     "name": "stdout",
     "output_type": "stream",
     "text": [
      "5\n"
     ]
    }
   ],
   "source": [
    "x = 5\n",
    "\n",
    "print(x)"
   ]
  },
  {
   "cell_type": "markdown",
   "metadata": {},
   "source": [
    "E - A atribuição simples tem como objetivo armazenar um valor na memória volátil do\n",
    "computador. O operador utilizado para realizar uma atribuição é o operador =. A\n",
    "atribuição de uma lista não pode ser considerada como simples, pois necessita ocupar\n",
    "mais de um endereço de memória\n",
    "\n",
    "A lista ocupa apenas 1 espaço"
   ]
  },
  {
   "cell_type": "markdown",
   "metadata": {},
   "source": [
    "Questão 02: Na linguagem Python, sobre a atribuição composta, é correto afirmar:\n"
   ]
  },
  {
   "cell_type": "markdown",
   "metadata": {},
   "source": [
    "A - Como o próprio nome já diz, a atribuição composta é aquela que armazena valores\n",
    "compostos na memória, como, por exemplo, lista e dicionários. Na atribuição composta,\n",
    "é necessário que haja pelo menos duas variáveis do lado esquerdo da igualdade.\n",
    "\n",
    "Todas as sentenças estão erradas"
   ]
  },
  {
   "cell_type": "code",
   "execution_count": null,
   "metadata": {},
   "outputs": [],
   "source": [
    "A += 2 #equivale a: A = A + 2\n",
    "N *= A #equivale a: N = N * A\n",
    "verifica &= N>7 #equivale a: verifica = verifica & N>7\n",
    "\n",
    "print(A)\n",
    "print(N)\n",
    "print(verifica)"
   ]
  },
  {
   "cell_type": "markdown",
   "metadata": {},
   "source": [
    "B - Diferente da atribuição simples, a atribuição composta tem como objetivo armazenar\n",
    "um valor na memória não volátil do computador. Ao realizar uma atribuição composta,\n",
    "o espaço da memória referenciado pela variável que recebe a atribuição sofre uma\n",
    "atualização.\n",
    "\n",
    "1° sentença errada"
   ]
  },
  {
   "cell_type": "markdown",
   "metadata": {},
   "source": [
    "C - A atribuição composta sempre implica em uma atualização do espaço da memória\n",
    "referenciado pela variável que recebe a atribuição. A atribuição composta é uma\n",
    "simplificação de uma operação lógica ou aritmética na qual a variável que recebe a\n",
    "atribuição está envolvida na operação.\n",
    "\n",
    "Correta"
   ]
  },
  {
   "cell_type": "markdown",
   "metadata": {},
   "source": [
    "D - A atribuição composta pode implicar em uma atualização do espaço da memória\n",
    "referenciado pela variável que recebe a atribuição. A atribuição composta é uma\n",
    "simplificação de uma operação lógica, aritmética ou relacional na qual a variável que\n",
    "recebe a atribuição está envolvida na operação."
   ]
  },
  {
   "cell_type": "code",
   "execution_count": null,
   "metadata": {},
   "outputs": [
    {
     "name": "stdout",
     "output_type": "stream",
     "text": [
      "0\n"
     ]
    }
   ],
   "source": [
    "a <= 2\n",
    "\n",
    "print(a)"
   ]
  },
  {
   "cell_type": "markdown",
   "metadata": {},
   "source": [
    "E - Assim como na atribuição simples, a atribuição composta tem como objetivo\n",
    "armazenar um valor na memória volátil do computador. Ao realizar uma atribuição\n",
    "composta, o espaço da memória referenciado pela variável que recebe a atribuição\n",
    "sofre uma atualização. A atribuição composta é uma simplificação de uma operação\n",
    "aritmética ou relacional na qual a variável que recebe a atribuição está envolvida na\n",
    "operação. \n",
    "\n",
    "Não pode ser relacional"
   ]
  },
  {
   "cell_type": "markdown",
   "metadata": {},
   "source": [
    "Questão 03: Na linguagem Python, sobre a atribuição múltipla, é correto afirmar:"
   ]
  },
  {
   "cell_type": "markdown",
   "metadata": {},
   "source": [
    "A - Como o próprio nome já diz, na atribuição múltipla, são reservados múltiplos espaços\n",
    "na memória para armazenar os valores atribuídos. Na atribuição múltipla, as variáveis\n",
    "devem estar separadas por vírgula e o número de vírgulas do lado esquerdo da\n",
    "igualdade deve sempre ser igual ao número de vírgulas do lado direito da igualdade.\n",
    "\n",
    "Errado, pois no lado direito pode conter uma lista"
   ]
  },
  {
   "cell_type": "code",
   "execution_count": null,
   "metadata": {},
   "outputs": [],
   "source": [
    "a,b = [1,2,3,4] , 4\n",
    "\n",
    "print(a)\n",
    "print(b)"
   ]
  },
  {
   "cell_type": "markdown",
   "metadata": {},
   "source": [
    "B - A atribuição múltipla indica que será reservado um espaço na memória para receber\n",
    "múltiplos valores. Se todos os valores forem do mesmo tipo, diz-se que a atribuição é\n",
    "forte. Caso contrário, se ao menos um valor for de tipo diferente, diz-se que a atribuição\n",
    "é fraca.\n",
    "\n",
    "não existe o conceito forte"
   ]
  },
  {
   "cell_type": "markdown",
   "metadata": {},
   "source": [
    "C - Como o próprio nome já diz, na atribuição múltipla, são reservados múltiplos espaços\n",
    "na memória para armazenar os valores atribuídos. Na atribuição múltipla, as variáveis\n",
    "devem estar separadas por vírgula. Para que uma atribuição seja múltipla, é necessário\n",
    "ao menos uma variável do lado esquerdo da igualdade.\n",
    "\n",
    "Se houver uma variavel do lado esquerdo a atribuição poderá ser do tipo simples ou composto"
   ]
  },
  {
   "cell_type": "markdown",
   "metadata": {},
   "source": [
    "D - A atribuição múltipla indica que serão reservados mais de um espaço na memória\n",
    "para receber os múltiplos valores atribuídos. Se todos os valores forem do mesmo tipo,\n",
    "diz-se que a atribuição é forte. Caso contrário, se ao menos um valor for de tipo\n",
    "diferente, diz-se que a atribuição é fraca.\n",
    "\n",
    "Não existe o conceito de forte"
   ]
  },
  {
   "cell_type": "markdown",
   "metadata": {},
   "source": [
    "E - Na atribuição múltipla, a quantidade de variáveis do lado esquerdo da igualdade deve\n",
    "ser sempre igual a quantidade de valores atribuídos. Caso contrário, você receberá um\n",
    "erro em tempo de execução do tipo TypeError.\n",
    "\n",
    "Errado, pois também pode apresentar o tipo de erro Type value"
   ]
  },
  {
   "cell_type": "code",
   "execution_count": 12,
   "metadata": {},
   "outputs": [
    {
     "ename": "ValueError",
     "evalue": "not enough values to unpack (expected 3, got 2)",
     "output_type": "error",
     "traceback": [
      "\u001b[1;31m---------------------------------------------------------------------------\u001b[0m",
      "\u001b[1;31mValueError\u001b[0m                                Traceback (most recent call last)",
      "\u001b[1;32mc:\\Users\\ALUNO\\Desktop\\Hidaka\\lista_operadores.ipynb Cell 25\u001b[0m line \u001b[0;36m1\n\u001b[1;32m----> <a href='vscode-notebook-cell:/c%3A/Users/ALUNO/Desktop/Hidaka/lista_operadores.ipynb#X40sZmlsZQ%3D%3D?line=0'>1</a>\u001b[0m a,b,c \u001b[39m=\u001b[39m \u001b[39m2\u001b[39m, \u001b[39m3\u001b[39m\n\u001b[0;32m      <a href='vscode-notebook-cell:/c%3A/Users/ALUNO/Desktop/Hidaka/lista_operadores.ipynb#X40sZmlsZQ%3D%3D?line=1'>2</a>\u001b[0m a,b \u001b[39m=\u001b[39m \u001b[39m2\u001b[39m, \u001b[39m3\u001b[39m, \u001b[39m4\u001b[39m\n",
      "\u001b[1;31mValueError\u001b[0m: not enough values to unpack (expected 3, got 2)"
     ]
    }
   ],
   "source": [
    "a,b,c = 2, 3\n",
    "a,b = 2, 3, 4"
   ]
  },
  {
   "cell_type": "markdown",
   "metadata": {},
   "source": [
    "Questão 04: Na linguagem Python, sobre os operadores aritméticos, é correto afirmar:"
   ]
  },
  {
   "cell_type": "markdown",
   "metadata": {},
   "source": [
    "A - O operador + pode ser utilizado para somar valores do tipo String. Quando esse for o\n",
    "caso, o interpretador entende que ele deve converter os valores de string para inteiro e\n",
    "então exibir o resultado da soma aritmética.\n",
    "\n",
    "Errado, pois ele concatena as strings"
   ]
  },
  {
   "cell_type": "code",
   "execution_count": 13,
   "metadata": {},
   "outputs": [
    {
     "name": "stdout",
     "output_type": "stream",
     "text": [
      "AB\n"
     ]
    }
   ],
   "source": [
    "a = \"A\" + \"B\"\n",
    "\n",
    "print(a)"
   ]
  },
  {
   "cell_type": "markdown",
   "metadata": {},
   "source": [
    "B - O operador * pode ser utilizado para multiplicar valores do tipo String. Quando esse\n",
    "for o caso, o interpretador entende que a String multiplicada será concatenada N vezes,\n",
    "sendo N o valor da multiplicação.\n",
    "\n",
    "Não é possível multiplicar valores do tipo string"
   ]
  },
  {
   "cell_type": "code",
   "execution_count": 14,
   "metadata": {},
   "outputs": [
    {
     "ename": "TypeError",
     "evalue": "can't multiply sequence by non-int of type 'str'",
     "output_type": "error",
     "traceback": [
      "\u001b[1;31m---------------------------------------------------------------------------\u001b[0m",
      "\u001b[1;31mTypeError\u001b[0m                                 Traceback (most recent call last)",
      "\u001b[1;32mc:\\Users\\ALUNO\\Desktop\\Hidaka\\lista_operadores.ipynb Cell 30\u001b[0m line \u001b[0;36m1\n\u001b[1;32m----> <a href='vscode-notebook-cell:/c%3A/Users/ALUNO/Desktop/Hidaka/lista_operadores.ipynb#X45sZmlsZQ%3D%3D?line=0'>1</a>\u001b[0m a \u001b[39m=\u001b[39m \u001b[39m\"\u001b[39;49m\u001b[39mA\u001b[39;49m\u001b[39m\"\u001b[39;49m \u001b[39m*\u001b[39;49m \u001b[39m\"\u001b[39;49m\u001b[39mB\u001b[39;49m\u001b[39m\"\u001b[39;49m\n\u001b[0;32m      <a href='vscode-notebook-cell:/c%3A/Users/ALUNO/Desktop/Hidaka/lista_operadores.ipynb#X45sZmlsZQ%3D%3D?line=2'>3</a>\u001b[0m \u001b[39mprint\u001b[39m(a)\n",
      "\u001b[1;31mTypeError\u001b[0m: can't multiply sequence by non-int of type 'str'"
     ]
    }
   ],
   "source": [
    "a = \"A\" * \"B\"\n",
    "\n",
    "print(a)"
   ]
  },
  {
   "cell_type": "markdown",
   "metadata": {},
   "source": [
    "C - O operador + pode ser utilizado para multiplicar valores do tipos String. Quando esse\n",
    "for o caso, o interpretador entende que as Strings somadas serão concatenadas\n",
    "\n",
    "O operador + serve para somar"
   ]
  },
  {
   "cell_type": "markdown",
   "metadata": {},
   "source": [
    "D - O operador * pode ser utilizado para multiplicar um valor String por um valor inteiro.\n",
    "Quando esse for o caso, o interpretador entende que a String multiplicada será\n",
    "concatenada N vezes, sendo N o valor da multiplicação.\n",
    "\n",
    "Correto"
   ]
  },
  {
   "cell_type": "code",
   "execution_count": 15,
   "metadata": {},
   "outputs": [
    {
     "name": "stdout",
     "output_type": "stream",
     "text": [
      "AAAA\n"
     ]
    }
   ],
   "source": [
    "a = \"A\" * 4\n",
    "\n",
    "print(a)"
   ]
  },
  {
   "cell_type": "markdown",
   "metadata": {},
   "source": [
    "E - O operador + pode ser utilizado para somar dois valores do tipo String. Quando esse\n",
    "for o caso, se o conteúdo das Strings forem numéricos a soma é realizada com sucesso.\n",
    "Caso contrário, você receberá um erro em tempo de execução do tipo ValueError.\n",
    "\n",
    "O erro não acontece"
   ]
  },
  {
   "cell_type": "markdown",
   "metadata": {},
   "source": [
    "Questão 05: Na linguagem Python, sobre os operadores relacionais, é correto afirmar:"
   ]
  },
  {
   "cell_type": "markdown",
   "metadata": {},
   "source": [
    "A - Os operadores relacionais são utilizados para construir expressões lógicas. Sempre\n",
    "que uma expressão lógica tiver mais de um operador relacional ela é classificada como\n",
    "expressão lógica composta e, por esse motivo, precisa de um operador lógico de forma\n",
    "explícita.\n",
    "\n",
    "Não precisa de um operador de forma explícita"
   ]
  },
  {
   "cell_type": "code",
   "execution_count": 16,
   "metadata": {},
   "outputs": [
    {
     "name": "stdout",
     "output_type": "stream",
     "text": [
      "True\n"
     ]
    }
   ],
   "source": [
    "a,b,c = 3,2,1\n",
    "\n",
    "print(a > b > c)"
   ]
  },
  {
   "cell_type": "markdown",
   "metadata": {},
   "source": [
    "B - Os operadores relacionais são utilizados para construir expressões lógicas. Uma\n",
    "expressão lógica com mais de um operador relacional é dita composta. Por ser\n",
    "composta, não necessariamente ela precisa de um operador lógico de forma explícita.\n",
    "\n",
    "Correta"
   ]
  },
  {
   "cell_type": "markdown",
   "metadata": {},
   "source": [
    "C - Os operadores relacionais são utilizados para construir expressões lógicas. Uma\n",
    "expressão lógica com somente um operador relacional é dita expressão lógica simples.\n",
    "São exemplos de operadores relacionais: >, <, >=, =, !=.\n",
    "\n",
    "O sinal = é utilizado para atribuição"
   ]
  },
  {
   "cell_type": "markdown",
   "metadata": {},
   "source": [
    "D - Os operadores relacionais são utilizados para construir expressões lógicas. Uma\n",
    "expressão lógica com somente um operador relacional é dita expressão lógica simples.\n",
    "São exemplos de operadores relacionais: not, and, or\n",
    "\n",
    "not, and, or são operadores lógicos"
   ]
  },
  {
   "cell_type": "markdown",
   "metadata": {},
   "source": [
    "E - Os operadores relacionais são utilizados para construir expressões lógicas. Uma\n",
    "expressão lógica pode possuir operadores aritméticos. Quando esse for o caso, os\n",
    "operadores aritméticos devem ser processados primeiro. Por esse motivo, eles possuem\n",
    "menor ordem de precedência do que os operadores relacionais.\n",
    "\n",
    "Possuem maior ordem"
   ]
  },
  {
   "cell_type": "code",
   "execution_count": 17,
   "metadata": {},
   "outputs": [
    {
     "name": "stdout",
     "output_type": "stream",
     "text": [
      "False\n"
     ]
    }
   ],
   "source": [
    "print((2 + 3) > ( 1 + 6))"
   ]
  },
  {
   "cell_type": "markdown",
   "metadata": {},
   "source": [
    "Questão 06: Atribua dois valores inteiros as variáveis A e B. Em seguida, utilize a\n",
    "atribuição múltipla para trocar os valores dessas variáveis."
   ]
  },
  {
   "cell_type": "code",
   "execution_count": 19,
   "metadata": {},
   "outputs": [
    {
     "name": "stdout",
     "output_type": "stream",
     "text": [
      "a: 2\n",
      "b: 1\n"
     ]
    }
   ],
   "source": [
    "a = 1\n",
    "b = 2\n",
    "\n",
    "a ,b = b , a\n",
    "\n",
    "print(\"a:\",a)\n",
    "print(\"b:\",b)"
   ]
  },
  {
   "cell_type": "markdown",
   "metadata": {},
   "source": [
    "Questão 07: Construa uma expressão aritmética para encontrar o maior valore, dado\n",
    "dois números inteiros. Dica: utilize a função abs() para calcular o valor absoluto"
   ]
  },
  {
   "cell_type": "code",
   "execution_count": 22,
   "metadata": {},
   "outputs": [
    {
     "name": "stdout",
     "output_type": "stream",
     "text": [
      "4.0\n"
     ]
    }
   ],
   "source": [
    "a = 1\n",
    "b = 4\n",
    "maior_valor = (a + b + abs(a - b))/2\n",
    "\n",
    "print(maior_valor)"
   ]
  },
  {
   "cell_type": "markdown",
   "metadata": {},
   "source": [
    "Questão 8: Dada as variáveis, informe o tipo de dado que está sendo \n",
    "\n",
    "A = 10 - inteiro\n",
    "nome = 'Renato Hidaka' - string\n",
    "N = A - 4 - inteiro\n",
    "lista = [5, 10, N, nome, '902'] - inteiro , inteiro , inteiro , string, string\n",
    "verifica = N > 7 - booleano"
   ]
  },
  {
   "cell_type": "markdown",
   "metadata": {},
   "source": [
    "Questão 9: Refatore o código utilizando a atribuição múltipla\n",
    "nome = 'Renato'\n",
    "sobrenome = 'Hidaka'"
   ]
  },
  {
   "cell_type": "code",
   "execution_count": 23,
   "metadata": {},
   "outputs": [
    {
     "name": "stdout",
     "output_type": "stream",
     "text": [
      "Renato\n",
      "Hidaka\n"
     ]
    }
   ],
   "source": [
    "nome = 'Renato'\n",
    "sobrenome = 'Hidaka'\n",
    "\n",
    "nome, sobrenome = 'Renato' , 'Hidaka'\n",
    "\n",
    "print(nome)\n",
    "print(sobrenome)"
   ]
  },
  {
   "cell_type": "markdown",
   "metadata": {},
   "source": [
    "Questão 10: Refatore o código utilizando a atribuição composta\n",
    "X = 10\n",
    "Y = 5\n",
    "X = X ** Y % 3"
   ]
  },
  {
   "cell_type": "code",
   "execution_count": null,
   "metadata": {},
   "outputs": [],
   "source": [
    "X = 10\n",
    "Y = 5\n",
    "X = X ** Y % 3\n",
    "\n",
    "x = 10\n",
    "y = 5\n",
    "x **= Y\n",
    "x %= 3"
   ]
  }
 ],
 "metadata": {
  "kernelspec": {
   "display_name": "Python 3",
   "language": "python",
   "name": "python3"
  },
  "language_info": {
   "codemirror_mode": {
    "name": "ipython",
    "version": 3
   },
   "file_extension": ".py",
   "mimetype": "text/x-python",
   "name": "python",
   "nbconvert_exporter": "python",
   "pygments_lexer": "ipython3",
   "version": "3.10.4"
  }
 },
 "nbformat": 4,
 "nbformat_minor": 2
}
