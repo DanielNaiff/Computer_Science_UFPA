{
 "cells": [
  {
   "cell_type": "markdown",
   "metadata": {},
   "source": [
    "Exercício 7:\n",
    "\n",
    "Barramento de controle - Liga a UCp à MP e transfere dados de leitura ou escrita.\n",
    "\n",
    "Barramento de endreço - Liga o REM e a MP e transfere bits de endereço e é unidirecional vai da REM para a MP.\n",
    "\n",
    "Barramento de dados - Liga o RDM à MP e transfere bits da informação que se deseja escrever ou ler. É bidirecional, vai do RDM para a MP(escrita) e da MP para o RDM(leitura). "
   ]
  },
  {
   "attachments": {},
   "cell_type": "markdown",
   "metadata": {},
   "source": [
    "Exercício 8:"
   ]
  },
  {
   "attachments": {},
   "cell_type": "markdown",
   "metadata": {},
   "source": [
    "<img src=\"exercício 8.jpg\">"
   ]
  },
  {
   "attachments": {},
   "cell_type": "markdown",
   "metadata": {},
   "source": [
    "Exercício 9:\n"
   ]
  },
  {
   "attachments": {},
   "cell_type": "markdown",
   "metadata": {},
   "source": [
    "<img src=\"Exercício 9.jpg\">"
   ]
  },
  {
   "attachments": {},
   "cell_type": "markdown",
   "metadata": {},
   "source": [
    "Exercício 13: A letra J é a decima letra do alfabeto, logo, antes dele será ocupado uma quantidade de 128X9 = 1152 de caracteres. O hexadecimal 27FA equivale a 10234 logo para saber o endereço da primeira letra J basta somarmos 1152 + 10233(pois os caracteres são colocados apartir de 27FA) = 11386 que equivale a 2C7A"
   ]
  },
  {
   "attachments": {},
   "cell_type": "markdown",
   "metadata": {},
   "source": [
    "Exercício 14: Para resolver basta resolver a equação 5 + 10^(-4).X=1 + 2.10^(-4).x. Com chegaremos no resultado de 40000 bits que é a quantidade que a DRAM começará a ficar mais barata"
   ]
  },
  {
   "attachments": {},
   "cell_type": "markdown",
   "metadata": {},
   "source": [
    "Exercício 26:"
   ]
  },
  {
   "attachments": {},
   "cell_type": "markdown",
   "metadata": {},
   "source": [
    "<img src=\"Exercícios 26.jpg\">"
   ]
  }
 ],
 "metadata": {
  "kernelspec": {
   "display_name": "Python 3",
   "language": "python",
   "name": "python3"
  },
  "language_info": {
   "codemirror_mode": {
    "name": "ipython",
    "version": 3
   },
   "file_extension": ".py",
   "mimetype": "text/x-python",
   "name": "python",
   "nbconvert_exporter": "python",
   "pygments_lexer": "ipython3",
   "version": "3.11.2"
  },
  "orig_nbformat": 4,
  "vscode": {
   "interpreter": {
    "hash": "b92c64ddd97bd75b75879c676e53789d19cf25aafb287fcc8a3273f02b13a1d2"
   }
  }
 },
 "nbformat": 4,
 "nbformat_minor": 2
}
