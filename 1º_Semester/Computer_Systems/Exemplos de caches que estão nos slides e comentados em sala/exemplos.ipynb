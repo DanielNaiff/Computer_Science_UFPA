{
 "cells": [
  {
   "attachments": {},
   "cell_type": "markdown",
   "metadata": {},
   "source": [
    "Exemplo 5.2: Considere um sistema de computação com uma memória cache de 32kB de capacidade, constituída de linhas com 8 bytes de largura. A MP possui uma capacidade de 16 MB"
   ]
  },
  {
   "cell_type": "code",
   "execution_count": 6,
   "metadata": {},
   "outputs": [],
   "source": [
    "capacidade_cache = 32*1024\n",
    "\n",
    "capacidade_mp = 16*(2**20)\n",
    "\n",
    "byte = 8\n",
    "\n",
    "quantidade_de_blocos = capacidade_mp / (8*byte)\n",
    "\n",
    "quantidade_de_linhas = capacidade_cache / byte\n",
    "\n",
    "quantidade_de_blocos_por_linha = quantidade_de_blocos/quantidade_de_linhas\n",
    "\n",
    "largura_campo_tag = quantidade_de_blocos / quantidade_de_linhas"
   ]
  },
  {
   "attachments": {},
   "cell_type": "markdown",
   "metadata": {},
   "source": [
    "para encontrar o total de bits da cache teremos que somar o total de bits dos dados com o total de bits das tags"
   ]
  },
  {
   "cell_type": "code",
   "execution_count": 8,
   "metadata": {},
   "outputs": [
    {
     "name": "stdout",
     "output_type": "stream",
     "text": [
      "4096.0\n",
      "64.0\n",
      "64.0\n"
     ]
    }
   ],
   "source": [
    "total_dados = capacidade_cache*byte\n",
    "total_tag = quantidade_de_linhas*largura_campo_tag*quantidade_de_blocos_por_linha\n",
    "print(quantidade_de_linhas)\n",
    "print(largura_campo_tag)\n",
    "print(quantidade_de_blocos_por_linha)"
   ]
  }
 ],
 "metadata": {
  "kernelspec": {
   "display_name": "Python 3",
   "language": "python",
   "name": "python3"
  },
  "language_info": {
   "codemirror_mode": {
    "name": "ipython",
    "version": 3
   },
   "file_extension": ".py",
   "mimetype": "text/x-python",
   "name": "python",
   "nbconvert_exporter": "python",
   "pygments_lexer": "ipython3",
   "version": "3.11.2"
  },
  "orig_nbformat": 4,
  "vscode": {
   "interpreter": {
    "hash": "b92c64ddd97bd75b75879c676e53789d19cf25aafb287fcc8a3273f02b13a1d2"
   }
  }
 },
 "nbformat": 4,
 "nbformat_minor": 2
}
