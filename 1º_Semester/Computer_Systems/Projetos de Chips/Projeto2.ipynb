{
 "cells": [
  {
   "attachments": {},
   "cell_type": "markdown",
   "metadata": {},
   "source": [
    "<img src=\"Projeto2.png\">"
   ]
  },
  {
   "attachments": {},
   "cell_type": "markdown",
   "metadata": {},
   "source": [
    "Como o tamanho da célula já estava limitado em 16 bits, então eu adicionei ao máximo o número de pinos e coloquei como número de colunas(CAS) = 13 colunas e linhas(RAS) = 13 linhas. O restante de bits completei com 32 bancos, para a atingir o total de 32Gbits de memória."
   ]
  },
  {
   "cell_type": "code",
   "execution_count": 6,
   "metadata": {},
   "outputs": [
    {
     "name": "stdout",
     "output_type": "stream",
     "text": [
      "Tamanho do Barramento de endereços: 31 Bits\n"
     ]
    }
   ],
   "source": [
    "Barramento_de_endereços = 13 + 13 + 5\n",
    "print(\"Tamanho do Barramento de endereços:\",Barramento_de_endereços,\"Bits\")"
   ]
  },
  {
   "attachments": {},
   "cell_type": "markdown",
   "metadata": {},
   "source": [
    "Tamanho do Barramento de Endereços: 31 Bits"
   ]
  }
 ],
 "metadata": {
  "kernelspec": {
   "display_name": "Python 3",
   "language": "python",
   "name": "python3"
  },
  "language_info": {
   "codemirror_mode": {
    "name": "ipython",
    "version": 3
   },
   "file_extension": ".py",
   "mimetype": "text/x-python",
   "name": "python",
   "nbconvert_exporter": "python",
   "pygments_lexer": "ipython3",
   "version": "3.11.2"
  },
  "orig_nbformat": 4,
  "vscode": {
   "interpreter": {
    "hash": "b92c64ddd97bd75b75879c676e53789d19cf25aafb287fcc8a3273f02b13a1d2"
   }
  }
 },
 "nbformat": 4,
 "nbformat_minor": 2
}
