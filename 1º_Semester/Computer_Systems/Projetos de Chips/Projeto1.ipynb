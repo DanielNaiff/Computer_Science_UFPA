{
 "cells": [
  {
   "attachments": {},
   "cell_type": "markdown",
   "metadata": {},
   "source": [
    "<img src=\"Projeto1.png\">"
   ]
  },
  {
   "cell_type": "code",
   "execution_count": 17,
   "metadata": {},
   "outputs": [
    {
     "name": "stdout",
     "output_type": "stream",
     "text": [
      "Tamanho da Célula: 16 Bits\n",
      "Tamanho da Palavra: 32 Bits\n",
      "Barramento de dados: 64 Bits\n",
      "Barramento de endereços: 29 Bits\n"
     ]
    }
   ],
   "source": [
    "tamanho_da_celula = 16\n",
    "tamanho_da_palavra = tamanho_da_celula*2\n",
    "Barramento_de_dados = tamanho_da_palavra*2 \n",
    "Barramento_de_enderecos = 13 + 13 + 3\n",
    "print(\"Tamanho da Célula:\",tamanho_da_celula,\"Bits\")\n",
    "print(\"Tamanho da Palavra:\",tamanho_da_palavra,\"Bits\")\n",
    "print(\"Barramento de dados:\",Barramento_de_dados,\"Bits\")\n",
    "print(\"Barramento de endereços:\",Barramento_de_enderecos,\"Bits\")"
   ]
  },
  {
   "attachments": {},
   "cell_type": "markdown",
   "metadata": {},
   "source": [
    "Tamanho da Palavra: 32 Bits\n"
   ]
  },
  {
   "attachments": {},
   "cell_type": "markdown",
   "metadata": {},
   "source": [
    "Tamanho da Célula: 16 Bits"
   ]
  },
  {
   "attachments": {},
   "cell_type": "markdown",
   "metadata": {},
   "source": [
    "Barramento de Dados: 64 Bits"
   ]
  },
  {
   "attachments": {},
   "cell_type": "markdown",
   "metadata": {},
   "source": [
    "Barramento de Endereços: 29 Bits\n"
   ]
  }
 ],
 "metadata": {
  "kernelspec": {
   "display_name": "Python 3",
   "language": "python",
   "name": "python3"
  },
  "language_info": {
   "codemirror_mode": {
    "name": "ipython",
    "version": 3
   },
   "file_extension": ".py",
   "mimetype": "text/x-python",
   "name": "python",
   "nbconvert_exporter": "python",
   "pygments_lexer": "ipython3",
   "version": "3.11.2"
  },
  "orig_nbformat": 4,
  "vscode": {
   "interpreter": {
    "hash": "b92c64ddd97bd75b75879c676e53789d19cf25aafb287fcc8a3273f02b13a1d2"
   }
  }
 },
 "nbformat": 4,
 "nbformat_minor": 2
}
